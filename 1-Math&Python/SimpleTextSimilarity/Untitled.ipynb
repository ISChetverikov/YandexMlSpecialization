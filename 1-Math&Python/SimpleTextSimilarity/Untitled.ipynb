{
 "cells": [
  {
   "cell_type": "markdown",
   "metadata": {},
   "source": [
    "## Text similarity"
   ]
  },
  {
   "cell_type": "code",
   "execution_count": 65,
   "metadata": {},
   "outputs": [],
   "source": [
    "import re\n",
    "import numpy as np\n",
    "import scipy.spatial as spat\n",
    "from functools import reduce \n",
    "\n",
    "with open('sentences.txt', 'r') as f:\n",
    "    text = f.read()\n",
    "\n",
    "def string_to_words(line):\n",
    "    words = re.sub(r'[^a-z]', ' ', line.lower()).split()\n",
    "    return words\n",
    "    \n",
    "words_matrix = list(map(string_to_words, text.split('\\n')))\n",
    "unique_words = reduce(lambda a, x: set.union(set(a), set(x)), words_matrix)\n",
    "\n",
    "# for line in words_matrix:\n",
    "#     for word in line:\n",
    "#         if word in unique_words:\n",
    "#             print(word)\n",
    "\n",
    "words_indices = list(range(len(unique_words)))\n",
    "words_indices_dic = dict(zip(unique_words, words_indices))\n",
    "\n",
    "n = len(words_matrix)      # sentences count\n",
    "d = len(words_indices_dic) # unique words count\n",
    "\n",
    "words_occurences = np.zeros((n,d))\n",
    "for sentence_index in range(len(words_matrix)):\n",
    "    for word, word_index in words_indices_dic.items():\n",
    "        words_occurences[sentence_index][word_index] += words_matrix[sentence_index].count(word)\n",
    "        \n",
    "distances = list(map(lambda x: spat.distance.cosine(x, words_occurences[0]), words_occurences))\n",
    "sorted_indices = np.array(distances).argsort()\n",
    "\n",
    "with open('submission-1.txt', 'w') as f:\n",
    "    f.write(str(sorted_indices[1]) + ' ' + str(sorted_indices[2]))"
   ]
  },
  {
   "cell_type": "markdown",
   "metadata": {},
   "source": [
    "## Function approximation"
   ]
  },
  {
   "cell_type": "code",
   "execution_count": 51,
   "metadata": {},
   "outputs": [
    {
     "data": {
      "image/png": "[encoded data removed]",
      "text/plain": [
       "<Figure size 432x288 with 1 Axes>"
      ]
     },
     "metadata": {
      "needs_background": "light"
     },
     "output_type": "display_data"
    }
   ],
   "source": [
    "import numpy as np\n",
    "import math\n",
    "import matplotlib.pyplot as plt\n",
    "from scipy import linalg\n",
    "\n",
    "def f(x):\n",
    "    return math.sin(x / 5) * math.exp(x / 10) + 5 * math.exp(-x / 2)\n",
    "\n",
    "def build_polynom(coefs):\n",
    "    def to_return(x):\n",
    "        result = 0;\n",
    "        for i in range(len(coefs)):\n",
    "            result += coefs[i] * (x ** i)\n",
    "        \n",
    "        return result\n",
    "            \n",
    "    return to_return\n",
    "\n",
    "p = np.array([1, 4, 10, 15])\n",
    "n = p.size\n",
    "a = np.ones((n, n))\n",
    "for i in range(n):\n",
    "    a[:,i] = p ** i\n",
    "    \n",
    "b = np.array([f(xi) for xi in p])\n",
    "\n",
    "w = linalg.solve(a, b)\n",
    "polynom = build_polynom(w)\n",
    "\n",
    "range_ = np.arange(0,20, 0.1)\n",
    "origin = np.array([f(x) for x in range_])\n",
    "interpolation = np.array([polynom(x) for x in range_])\n",
    "\n",
    "plt.plot(origin)\n",
    "plt.plot(interpolation)\n",
    "\n",
    "with open('submission-2.txt', 'w') as f:\n",
    "    f.write(' '.join(str(round(wi, 2)) for wi in w))"
   ]
  },
  {
   "cell_type": "code",
   "execution_count": null,
   "metadata": {},
   "outputs": [],
   "source": []
  }
 ],
 "metadata": {
  "kernelspec": {
   "display_name": "Python 3",
   "language": "python",
   "name": "python3"
  },
  "language_info": {
   "codemirror_mode": {
    "name": "ipython",
    "version": 3
   },
   "file_extension": ".py",
   "mimetype": "text/x-python",
   "name": "python",
   "nbconvert_exporter": "python",
   "pygments_lexer": "ipython3",
   "version": "3.7.3"
  }
 },
 "nbformat": 4,
 "nbformat_minor": 2
}
