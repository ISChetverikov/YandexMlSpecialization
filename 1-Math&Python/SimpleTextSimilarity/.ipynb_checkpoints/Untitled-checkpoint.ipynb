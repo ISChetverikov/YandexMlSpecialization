{
 "cells": [
  {
   "cell_type": "code",
   "execution_count": 6,
   "metadata": {},
   "outputs": [],
   "source": [
    "import re\n",
    "import numpy as np\n",
    "import scipy.spatial as spat\n",
    "from functools import reduce \n",
    "\n",
    "with open('sentences.txt', 'r') as f:\n",
    "    text = f.read()\n",
    "\n",
    "def string_to_words(line):\n",
    "    words = re.sub(r'[^a-z]', ' ', line.lower()).split()\n",
    "    return words\n",
    "    \n",
    "words_matrix = list(map(string_to_words, text.split('\\n')))\n",
    "unique_words = reduce(lambda a, x: set.union(set(a), set(x)), words_matrix)\n",
    "\n",
    "# for line in words_matrix:\n",
    "#     for word in line:\n",
    "#         if word in unique_words:\n",
    "#             print(word)\n",
    "\n",
    "words_indices = list(range(len(unique_words)))\n",
    "words_indices_dic = dict(zip(unique_words, words_indices))\n",
    "\n",
    "n = len(words_matrix)      # sentences count\n",
    "d = len(words_indices_dic) # unique words count\n",
    "\n",
    "words_occurences = np.zeros((n,d))\n",
    "for sentence_index in range(len(words_matrix)):\n",
    "    for word, word_index in words_indices_dic.items():\n",
    "        words_occurences[sentence_index][word_index] += words_matrix[sentence_index].count(word)\n",
    "        \n",
    "distances = list(map(lambda x: spat.distance.cosine(x, words_occurences[0]), words_occurences))\n",
    "with open('submission-1.txt', 'w') as f:\n",
    "    f.write(' '.join(str(distance) for distance in distances))"
   ]
  },
  {
   "cell_type": "code",
   "execution_count": null,
   "metadata": {},
   "outputs": [],
   "source": []
  }
 ],
 "metadata": {
  "kernelspec": {
   "display_name": "Python 3",
   "language": "python",
   "name": "python3"
  },
  "language_info": {
   "codemirror_mode": {
    "name": "ipython",
    "version": 3
   },
   "file_extension": ".py",
   "mimetype": "text/x-python",
   "name": "python",
   "nbconvert_exporter": "python",
   "pygments_lexer": "ipython3",
   "version": "3.7.3"
  }
 },
 "nbformat": 4,
 "nbformat_minor": 2
}
